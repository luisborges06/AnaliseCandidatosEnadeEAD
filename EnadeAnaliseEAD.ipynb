{
 "cells": [
  {
   "cell_type": "code",
   "execution_count": 1,
   "metadata": {},
   "outputs": [],
   "source": [
    "#Analise de Dados\n",
    "#Enade 2010-2017\n",
    "#Candidatos do ENADE que estudam em escola EAD e tiveram nota maior que 75\n",
    "\n",
    "#importanto a biblioteca de plotagem para a geração do gráfico\n",
    "import matplotlib.pyplot as plt"
   ]
  },
  {
   "cell_type": "code",
   "execution_count": 2,
   "metadata": {},
   "outputs": [],
   "source": [
    "#criando o caminho para para os arquivos para serem analiazaos\n",
    "caminho = r\"C:\\Users\\Luis Henrique\\Documents\\FATEC\\Algorítimos\\Enade\""
   ]
  },
  {
   "cell_type": "code",
   "execution_count": 3,
   "metadata": {},
   "outputs": [],
   "source": [
    "#lista de arquivos para serem analizados\n",
    "arquivos = ['\\MICRODADOS_ENADE_2017.txt','\\MICRODADOS_ENADE_2016.txt',\n",
    "            '\\MICRODADOS_ENADE_2015.txt','\\MICRODADOS_ENADE_2014.txt',\n",
    "            '\\MICRODADOS_ENADE_2013.txt','\\MICRODADOS_ENADE_2012.txt',\n",
    "            '\\MICRODADOS_ENADE_2011.txt','\\MICRODADOS_ENADE_2010.txt']\n"
   ]
  },
  {
   "cell_type": "code",
   "execution_count": 4,
   "metadata": {},
   "outputs": [],
   "source": [
    "#Dicionário onde serão armazenadas as chaves (anos) e valores da análise\n",
    "grafico = {}\n",
    "\n",
    "modalidade = 'CO_MODALIDADE'\n",
    "nota_geral = 'NT_GER'\n",
    "x = 0\n",
    "ano = 2017\n",
    "correspondentes_total = 0"
   ]
  },
  {
   "cell_type": "code",
   "execution_count": 5,
   "metadata": {},
   "outputs": [
    {
     "name": "stdout",
     "output_type": "stream",
     "text": [
      "\n",
      ">> Analisando base de dados do ano de 2017...\n",
      "-> Candidatos analisados: 537436\n",
      "-> Correspondem aos requisitos da análise: 1210\n",
      "\n",
      ">> Analisando base de dados do ano de 2016...\n",
      "-> Candidatos analisados: 216044\n",
      "-> Correspondem aos requisitos da análise: 78\n",
      "\n",
      ">> Analisando base de dados do ano de 2015...\n",
      "-> Candidatos analisados: 549487\n",
      "-> Correspondem aos requisitos da análise: 877\n",
      "\n",
      ">> Analisando base de dados do ano de 2014...\n",
      "-> Candidatos analisados: 481720\n",
      "-> Correspondem aos requisitos da análise: 1447\n",
      "\n",
      ">> Analisando base de dados do ano de 2013...\n",
      "-> Candidatos analisados: 195525\n",
      "-> Correspondem aos requisitos da análise: 22\n",
      "\n",
      ">> Analisando base de dados do ano de 2012...\n",
      "-> Candidatos analisados: 587351\n",
      "-> Correspondem aos requisitos da análise: 145\n",
      "\n",
      ">> Analisando base de dados do ano de 2011...\n",
      "-> Candidatos analisados: 376180\n",
      "-> Correspondem aos requisitos da análise: 722\n",
      "\n",
      ">> Analisando base de dados do ano de 2010...\n",
      "-> Candidatos analisados: 422896\n",
      "-> Correspondem aos requisitos da análise: 11\n"
     ]
    }
   ],
   "source": [
    "while x < len(arquivos):\n",
    "    file = open(caminho + arquivos[x])\n",
    "    rotulos = file.readline().split(';')\n",
    "    analisados = 0\n",
    "    correspondentes = 0\n",
    "    print(f'\\n>> Analisando base de dados do ano de {ano}...')\n",
    "    for rotulo in rotulos:\n",
    "        if rotulo == modalidade:\n",
    "            for linha in file:\n",
    "                campos = linha.split(';')\n",
    "                analisados += 1\n",
    "                if campos[rotulos.index(nota_geral)] != '' and campos[rotulos.index(nota_geral)] != nota_geral:\n",
    "                    nota_bruta = float(campos[rotulos.index(nota_geral)].replace(',','.'))\n",
    "                    if campos[rotulos.index(modalidade)] == '0' and nota_bruta >= 75:\n",
    "                        correspondentes += 1\n",
    "                        correspondentes_total += 1                    \n",
    "    print(f'-> Candidatos analisados: {analisados}')\n",
    "    print(f'-> Correspondem aos requisitos da análise: {correspondentes}')\n",
    "\n",
    "    grafico[ano] = correspondentes\n",
    "    ano = ano - 1\n",
    "    x += 1"
   ]
  },
  {
   "cell_type": "code",
   "execution_count": 6,
   "metadata": {},
   "outputs": [
    {
     "name": "stdout",
     "output_type": "stream",
     "text": [
      "\n",
      "Total de candidatos analisados, entre 2010 e 2017, \n",
      "    que corresponderam à análise: 4512\n"
     ]
    }
   ],
   "source": [
    "print(f'''\\nTotal de candidatos analisados, entre 2010 e 2017, \n",
    "    que corresponderam à análise: {correspondentes_total}''')"
   ]
  },
  {
   "cell_type": "code",
   "execution_count": 7,
   "metadata": {},
   "outputs": [
    {
     "data": {
      "image/png": "[encoded data removed]",
      "text/plain": [
       "<Figure size 432x288 with 1 Axes>"
      ]
     },
     "metadata": {
      "needs_background": "light"
     },
     "output_type": "display_data"
    }
   ],
   "source": [
    "plt.bar(grafico.keys(), grafico.values())\n",
    "plt.show()"
   ]
  },
  {
   "cell_type": "code",
   "execution_count": null,
   "metadata": {},
   "outputs": [],
   "source": []
  }
 ],
 "metadata": {
  "kernelspec": {
   "display_name": "Python 3",
   "language": "python",
   "name": "python3"
  },
  "language_info": {
   "codemirror_mode": {
    "name": "ipython",
    "version": 3
   },
   "file_extension": ".py",
   "mimetype": "text/x-python",
   "name": "python",
   "nbconvert_exporter": "python",
   "pygments_lexer": "ipython3",
   "version": "3.7.4"
  }
 },
 "nbformat": 4,
 "nbformat_minor": 2
}
