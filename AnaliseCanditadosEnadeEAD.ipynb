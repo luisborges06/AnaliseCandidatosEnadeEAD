#Analise de Dados
#Enade 2010-2017
#Candidatos do ENADE que estudam em escola EAD e tiveram nota maior que 75

import numpy as np
import matplotlib.pyplot as plt

caminho = r"C:\Users\Luis Henrique\Documents\FATEC\Algorítimos\Enade"
arquivos = ['\MICRODADOS_ENADE_2017.txt','\MICRODADOS_ENADE_2016.txt',
            '\MICRODADOS_ENADE_2015.txt','\MICRODADOS_ENADE_2014.txt',
            '\MICRODADOS_ENADE_2013.txt','\MICRODADOS_ENADE_2012.txt',
            '\MICRODADOS_ENADE_2011.txt','\MICRODADOS_ENADE_2010.txt']

grafico = {}

modalidade = 'CO_MODALIDADE'
nota_geral = 'NT_GER'
qtd_arquivos = len(arquivos)
x = 0
ano = 2017
correspondentes_total = 0

print('Analise: Candidatos que fizeram o exame do ENADE, entre 2010 e 2017, e estudam em escola EAD e tiveram nota bruta acima de 75.')

while x < qtd_arquivos:
    file = open(caminho + arquivos[x])
    rotulos = file.readline().split(';')
    analisados = 0
    correspondentes = 0
    print(f'\n>> Analisando base de dados do ano de {ano}...')
    for rotulo in rotulos:
        if rotulo == modalidade:
            for linha in file:
                campos = linha.split(';')
                analisados += 1
                if campos[rotulos.index(nota_geral)] != '' and campos[rotulos.index(nota_geral)] != nota_geral:
                    nota_bruta = float(campos[rotulos.index(nota_geral)].replace(',','.'))
                    if campos[rotulos.index(modalidade)] == '0' and nota_bruta >= 75:
                        correspondentes += 1
                        correspondentes_total += 1                    
    print(f'-> Candidatos analisados: {analisados}')
    print(f'-> Correspondem aos requisitos da análise: {correspondentes}')

    grafico[ano] = correspondentes
    ano = ano - 1
    x += 1
    
print(f'''\nTotal de candidatos analisados, entre 2010 e 2017, 
que corresponderam à análise: {correspondentes_total}''')

plt.bar(grafico.keys(), grafico.values())
plt.show()
